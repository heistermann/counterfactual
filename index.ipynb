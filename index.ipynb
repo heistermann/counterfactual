{
 "cells": [
  {
   "cell_type": "code",
   "execution_count": 2,
   "id": "4e4d792f",
   "metadata": {},
   "outputs": [],
   "source": [
    "import pandas as pd\n",
    "import geopandas as gpd\n",
    "import folium\n",
    "import branca.colormap as cm"
   ]
  },
  {
   "cell_type": "code",
   "execution_count": 3,
   "id": "418a603e",
   "metadata": {},
   "outputs": [],
   "source": [
    "import json\n",
    "import numpy as np"
   ]
  },
  {
   "cell_type": "code",
   "execution_count": 4,
   "id": "88c35198",
   "metadata": {},
   "outputs": [],
   "source": [
    "import matplotlib.pyplot as plt"
   ]
  },
  {
   "cell_type": "code",
   "execution_count": 5,
   "id": "f1761379",
   "metadata": {},
   "outputs": [],
   "source": [
    "import rasterio as rio"
   ]
  },
  {
   "cell_type": "code",
   "execution_count": 6,
   "id": "0a73292e",
   "metadata": {},
   "outputs": [],
   "source": [
    "from osgeo import gdal"
   ]
  },
  {
   "cell_type": "code",
   "execution_count": 7,
   "id": "c0687405",
   "metadata": {},
   "outputs": [],
   "source": [
    "from affine import Affine"
   ]
  },
  {
   "cell_type": "markdown",
   "id": "3a5c5564",
   "metadata": {},
   "source": [
    "## Stream network preprocessing"
   ]
  },
  {
   "cell_type": "code",
   "execution_count": 8,
   "id": "547af01e",
   "metadata": {},
   "outputs": [],
   "source": [
    "# step1 = gdal.Open('/media/x/data/paul/streams_all.map', gdal.GA_ReadOnly)\n",
    "# GT_input = step1.GetGeoTransform()\n",
    "# step2 = step1.GetRasterBand(1)\n",
    "# img_as_array = step2.ReadAsArray()\n",
    "# size1,size2=img_as_array.shape\n",
    "# output=np.zeros(shape=(size1,size2))\n",
    "\n",
    "# output = img_as_array.copy()\n",
    "# output[output<7] = 0\n",
    "# output[output>=7] = 1\n",
    "\n",
    "# output = output.astype(\"int32\")\n",
    "\n",
    "# dst_crs='EPSG:3035'\n",
    "\n",
    "# #transf = (583932.1992386435, 10.0, 0, 2223772.1491772938, 0, -10.0)\n",
    "# afn = Affine.from_gdal(*GT_input)\n",
    "\n",
    "# with rio.open(\n",
    "#     \"/media/x/data/paul/streams01.tif\",\n",
    "#     'w',\n",
    "#     driver='GTiff',\n",
    "#     height=output.shape[0],\n",
    "#     width=output.shape[1],\n",
    "#     count=1,\n",
    "#     dtype=np.int32,\n",
    "#     crs=dst_crs,\n",
    "#     transform=afn,\n",
    "# ) as dest_file:\n",
    "#     dest_file.write(output, 1)\n",
    "# dest_file.close()"
   ]
  },
  {
   "cell_type": "markdown",
   "id": "df937798",
   "metadata": {},
   "source": [
    "## Catchments"
   ]
  },
  {
   "cell_type": "code",
   "execution_count": 9,
   "id": "7ed6628f",
   "metadata": {},
   "outputs": [],
   "source": [
    "#fpath = \"/media/x/data/shape_collection/bkg.bund/vg250_01-01.utm32s.shape.ebenen/vg250_ebenen_0101/VG250_GEM.shp\"\n",
    "#fpath = \"/media/x/data/kostra/GIS_KOSTRA-DWD-2010R_D0120/StatRR_KOSTRA-DWD-2010R_D0120.shp\"\n",
    "fpath = \"/media/x/data/paul/downward_counterfactual.gpkg\""
   ]
  },
  {
   "cell_type": "code",
   "execution_count": 10,
   "id": "308722c1",
   "metadata": {},
   "outputs": [],
   "source": [
    "data = gpd.read_file(fpath)\n",
    "data = data.to_crs(epsg=4326)"
   ]
  },
  {
   "cell_type": "code",
   "execution_count": 12,
   "id": "5b1221aa",
   "metadata": {},
   "outputs": [],
   "source": [
    "streams = gpd.read_file(\"/media/x/data/paul/streams_peuker.geojson\")\n",
    "streams = streams.to_crs(epsg=4326)\n",
    "streams = streams[[\"geometry\"]]"
   ]
  },
  {
   "cell_type": "code",
   "execution_count": 7,
   "id": "4b63ade4",
   "metadata": {},
   "outputs": [
    {
     "data": {
      "text/plain": [
       "Index(['sub_id', 'original_max', 'potential_max', 'which_potential',\n",
       "       'which_original', 'flows_to', 'accu_at_outlet', 'time_to_next_outlet',\n",
       "       'order', 'inflow_basins', 'area_km2', 'cum_upstream_area',\n",
       "       'peak_area_ratio_original', 'peak_area_ratio_potential', 'giuh_ratio',\n",
       "       'ratio>10', 'ratio_mean', 'ratio_median', 'Unnamed: 0', 'lag_time_mean',\n",
       "       'lag_time_of_75percentile', 'lag_time_of_90percentile',\n",
       "       'lag_time_of_95percentile', 'nr_cases', 'ratio_p_25', 'ratio_p_50',\n",
       "       'ratio_p_75', 'ratio_p_90', 'ratio_p_95', 'highest_peak_event',\n",
       "       'paper_name', 'geometry'],\n",
       "      dtype='object')"
      ]
     },
     "execution_count": 7,
     "metadata": {},
     "output_type": "execute_result"
    }
   ],
   "source": [
    "data.columns"
   ]
  },
  {
   "cell_type": "code",
   "execution_count": 8,
   "id": "78973f83",
   "metadata": {},
   "outputs": [
    {
     "name": "stderr",
     "output_type": "stream",
     "text": [
      "/home/maik/miniconda3/envs/cs2/lib/python3.9/site-packages/geopandas/geodataframe.py:1351: SettingWithCopyWarning: \n",
      "A value is trying to be set on a copy of a slice from a DataFrame.\n",
      "Try using .loc[row_indexer,col_indexer] = value instead\n",
      "\n",
      "See the caveats in the documentation: https://pandas.pydata.org/pandas-docs/stable/user_guide/indexing.html#returning-a-view-versus-a-copy\n",
      "  super().__setitem__(key, value)\n"
     ]
    }
   ],
   "source": [
    "# reduce size by selecting only specific attributes and rounding their values\n",
    "attrsselect = [\"peak_area_ratio_original\", \"peak_area_ratio_potential\", \"paper_name\"]\n",
    "data2 = data[attrsselect+[\"geometry\"]]\n",
    "data2[attrsselect] = data2[attrsselect].round(1)"
   ]
  },
  {
   "cell_type": "code",
   "execution_count": 9,
   "id": "4d2d56aa",
   "metadata": {},
   "outputs": [
    {
     "data": {
      "text/plain": [
       "63.2"
      ]
     },
     "execution_count": 9,
     "metadata": {},
     "output_type": "execute_result"
    }
   ],
   "source": [
    "data2.peak_area_ratio_potential.max()"
   ]
  },
  {
   "cell_type": "code",
   "execution_count": 14,
   "id": "254d69c8",
   "metadata": {},
   "outputs": [],
   "source": [
    "# Federal states\n",
    "fpath = \"/media/x/data/shape_collection/bkg.bund/vg250_01-01.utm32s.shape.ebenen/vg250_ebenen_0101/VG250_LAN.shp\"\n",
    "states = gpd.read_file(fpath)"
   ]
  },
  {
   "cell_type": "code",
   "execution_count": 15,
   "id": "33de87fa",
   "metadata": {},
   "outputs": [],
   "source": [
    "# define which states are lumped\n",
    "clipdefs = {\"nrw\": [\"Nordrhein-Westfalen\"],\n",
    "            \"shh\": [\"Schleswig-Holstein\",\"Hamburg\"],\n",
    "            \"nsb\": [\"Niedersachsen\", \"Bremen\"],\n",
    "            \"hes\": [\"Hessen\"],\n",
    "            \"rlp\": [\"Rheinland-Pfalz\"],\n",
    "            \"bwb\": [\"Baden-Württemberg\"],\n",
    "            \"bay\": [\"Bayern\"],\n",
    "            \"saa\": [\"Saarland\"],\n",
    "            \"bbr\": [\"Berlin\", \"Brandenburg\"],\n",
    "            \"mbv\": [\"Mecklenburg-Vorpommern\"],\n",
    "            \"sac\": [\"Sachsen\"],\n",
    "            \"san\": [\"Sachsen-Anhalt\"],\n",
    "            \"thu\": [\"Thüringen\"],\n",
    "           }"
   ]
  },
  {
   "cell_type": "code",
   "execution_count": 12,
   "id": "54ae41fe",
   "metadata": {},
   "outputs": [
    {
     "data": {
      "text/plain": [
       "(169, 4)"
      ]
     },
     "execution_count": 12,
     "metadata": {},
     "output_type": "execute_result"
    }
   ],
   "source": [
    "test = gpd.sjoin(data2,states[states.GEN==\"Saarland\"].to_crs(epsg=4326))[attrsselect+[\"geometry\"]]\n",
    "test.shape"
   ]
  },
  {
   "cell_type": "code",
   "execution_count": 13,
   "id": "2b645437",
   "metadata": {},
   "outputs": [
    {
     "data": {
      "text/plain": [
       "(49.11895319654311, 49.71036262368685)"
      ]
     },
     "execution_count": 13,
     "metadata": {},
     "output_type": "execute_result"
    },
    {
     "data": {
      "image/png": "[encoded data removed]",
      "text/plain": [
       "<Figure size 432x288 with 1 Axes>"
      ]
     },
     "metadata": {
      "needs_background": "light"
     },
     "output_type": "display_data"
    }
   ],
   "source": [
    "fig, ax = plt.subplots()\n",
    "states.to_crs(epsg=4326).plot(ax=ax, edgecolor=\"black\", facecolor=\"none\")\n",
    "test.plot(ax=ax, edgecolor=\"red\", facecolor=\"none\")\n",
    "plt.xlim(test.bounds.minx.min(), test.bounds.maxx.max())\n",
    "plt.ylim(test.bounds.miny.min(), test.bounds.maxy.max())"
   ]
  },
  {
   "cell_type": "code",
   "execution_count": 14,
   "id": "00973836",
   "metadata": {},
   "outputs": [
    {
     "name": "stdout",
     "output_type": "stream",
     "text": [
      "['Nordrhein-Westfalen']\n",
      "['Schleswig-Holstein', 'Hamburg']\n",
      "['Niedersachsen', 'Bremen']\n",
      "['Hessen']\n",
      "['Rheinland-Pfalz']\n",
      "['Baden-Württemberg']\n",
      "['Bayern']\n",
      "['Saarland']\n",
      "['Berlin', 'Brandenburg']\n",
      "['Mecklenburg-Vorpommern']\n",
      "['Sachsen']\n",
      "['Sachsen-Anhalt']\n",
      "['Thüringen']\n"
     ]
    }
   ],
   "source": [
    "# Clipping states from full dataset\n",
    "# (actually not clipping, but checking for overlap)\n",
    "clip = {}\n",
    "#bufferdist = 10000\n",
    "for key in clipdefs.keys():\n",
    "    print(clipdefs[key])\n",
    "    if len(clipdefs[key])==1:\n",
    "        clip[key] = gpd.sjoin(data2,states[states.GEN==clipdefs[key][0]].to_crs(epsg=4326))[attrsselect+[\"geometry\"]]\n",
    "#        clip[key] = data2.clip(states[states.GEN==clipdefs[key][0]].buffer(bufferdist).to_crs(epsg=4326))\n",
    "    else:\n",
    "        ix = np.repeat(False, len(states))\n",
    "        for j, item in enumerate(clipdefs[key]):\n",
    "            ix = ix | (states.GEN==clipdefs[key][j]).to_numpy()\n",
    "        clip[key] = gpd.sjoin(data2,states[ix].to_crs(epsg=4326))[attrsselect+[\"geometry\"]]\n",
    "#        clip[key] = data2.clip(states[ix].buffer(bufferdist).to_crs(epsg=4326))    "
   ]
  },
  {
   "cell_type": "code",
   "execution_count": 18,
   "id": "c8912b34",
   "metadata": {},
   "outputs": [],
   "source": [
    "# recursive function to crop geojson coordinate precision (reducing file size)\n",
    "def _set_precision(coords, precision):\n",
    "    result = []\n",
    "    try:\n",
    "        return round(coords, int(precision))\n",
    "    except TypeError:\n",
    "        for coord in coords:\n",
    "            result.append(_set_precision(coord, precision))\n",
    "    return result"
   ]
  },
  {
   "cell_type": "code",
   "execution_count": 16,
   "id": "bac3ab55",
   "metadata": {},
   "outputs": [
    {
     "name": "stdout",
     "output_type": "stream",
     "text": [
      "nrw\n",
      "shh\n",
      "nsb\n",
      "hes\n",
      "rlp\n",
      "bwb\n",
      "bay\n",
      "saa\n",
      "bbr\n",
      "mbv\n",
      "sac\n",
      "san\n",
      "thu\n"
     ]
    }
   ],
   "source": [
    "# crop geojson coordinate precision (reducing file size), save as js objects\n",
    "precision = 5\n",
    "for key in clip.keys():\n",
    "    print(key)\n",
    "    tmp = clip[key].to_json()\n",
    "    with open(\"tmp\", \"w\") as f:\n",
    "        f.write(tmp)\n",
    "    with open(\"tmp\", \"r\") as f:\n",
    "        item = json.load(f)    \n",
    "    item2 = item.copy()\n",
    "    for i, feature in enumerate(item[\"features\"]):\n",
    "        coords = _set_precision(feature['geometry']['coordinates'], precision)\n",
    "        item2[\"features\"][i][\"geometry\"][\"coordinates\"] = coords \n",
    "    with open(\"docs/\"+key+\".js\", \"w\") as f:\n",
    "        f.write(\"%s = \" % key)\n",
    "        json.dump(item2, f)"
   ]
  },
  {
   "cell_type": "markdown",
   "id": "3f46d9bd",
   "metadata": {},
   "source": [
    "## Clip stream network"
   ]
  },
  {
   "cell_type": "code",
   "execution_count": 21,
   "id": "4da8edb1",
   "metadata": {},
   "outputs": [
    {
     "name": "stdout",
     "output_type": "stream",
     "text": [
      "['Nordrhein-Westfalen']\n",
      "['Schleswig-Holstein', 'Hamburg']\n",
      "['Niedersachsen', 'Bremen']\n",
      "['Hessen']\n",
      "['Rheinland-Pfalz']\n",
      "['Baden-Württemberg']\n",
      "['Bayern']\n",
      "['Saarland']\n",
      "['Berlin', 'Brandenburg']\n",
      "['Mecklenburg-Vorpommern']\n",
      "['Sachsen']\n",
      "['Sachsen-Anhalt']\n",
      "['Thüringen']\n"
     ]
    }
   ],
   "source": [
    "# Clipping states from full dataset\n",
    "# (actually not clipping, but checking for overlap)\n",
    "clipstream = {}\n",
    "#bufferdist = 10000\n",
    "for key in clipdefs.keys():\n",
    "    print(clipdefs[key])\n",
    "    if len(clipdefs[key])==1:\n",
    "        clipstream[key+\"_streams\"] = gpd.sjoin(streams,states[states.GEN==clipdefs[key][0]].to_crs(epsg=4326))[[\"geometry\"]]\n",
    "#        clip[key] = data2.clip(states[states.GEN==clipdefs[key][0]].buffer(bufferdist).to_crs(epsg=4326))\n",
    "    else:\n",
    "        ix = np.repeat(False, len(states))\n",
    "        for j, item in enumerate(clipdefs[key]):\n",
    "            ix = ix | (states.GEN==clipdefs[key][j]).to_numpy()\n",
    "        clipstream[key+\"_streams\"] = gpd.sjoin(streams,states[ix].to_crs(epsg=4326))[[\"geometry\"]]\n",
    "#        clip[key] = data2.clip(states[ix].buffer(bufferdist).to_crs(epsg=4326))    "
   ]
  },
  {
   "cell_type": "code",
   "execution_count": 23,
   "id": "3d3cf208",
   "metadata": {},
   "outputs": [
    {
     "name": "stdout",
     "output_type": "stream",
     "text": [
      "nrw_streams\n",
      "shh_streams\n",
      "nsb_streams\n",
      "hes_streams\n",
      "rlp_streams\n",
      "bwb_streams\n",
      "bay_streams\n",
      "saa_streams\n",
      "bbr_streams\n",
      "mbv_streams\n",
      "sac_streams\n",
      "san_streams\n",
      "thu_streams\n"
     ]
    }
   ],
   "source": [
    "# crop geojson coordinate precision (reducing file size), save as js objects\n",
    "precision = 5\n",
    "for key in clipstream.keys():\n",
    "    print(key)\n",
    "    tmp = clipstream[key].to_json()\n",
    "    with open(\"tmp\", \"w\") as f:\n",
    "        f.write(tmp)\n",
    "    with open(\"tmp\", \"r\") as f:\n",
    "        item = json.load(f)    \n",
    "    item2 = item.copy()\n",
    "    for i, feature in enumerate(item[\"features\"]):\n",
    "        coords = _set_precision(feature['geometry']['coordinates'], precision)\n",
    "        item2[\"features\"][i][\"geometry\"][\"coordinates\"] = coords \n",
    "    with open(\"docs/streams/\"+key+\".js\", \"w\") as f:\n",
    "        f.write(\"%s = \" % key)\n",
    "        json.dump(item2, f)"
   ]
  },
  {
   "cell_type": "markdown",
   "id": "3caadb22",
   "metadata": {},
   "source": [
    "# Other"
   ]
  },
  {
   "cell_type": "code",
   "execution_count": null,
   "id": "8f05d7f1",
   "metadata": {},
   "outputs": [],
   "source": [
    "x_map=dataclip.centroid.x.mean()\n",
    "y_map=dataclip.centroid.y.mean()\n",
    "print(x_map,y_map)"
   ]
  },
  {
   "cell_type": "code",
   "execution_count": 58,
   "id": "51aa1ecd",
   "metadata": {},
   "outputs": [
    {
     "data": {
      "text/plain": [
       "<AxesSubplot:>"
      ]
     },
     "execution_count": 58,
     "metadata": {},
     "output_type": "execute_result"
    },
    {
     "data": {
      "image/png": "[encoded data removed]",
      "text/plain": [
       "<Figure size 432x288 with 1 Axes>"
      ]
     },
     "metadata": {
      "needs_background": "light"
     },
     "output_type": "display_data"
    }
   ],
   "source": [
    "clip[\"nrw\"][\"peak_area_ratio_highest\"].hist()"
   ]
  },
  {
   "cell_type": "code",
   "execution_count": 104,
   "id": "6194f84b",
   "metadata": {},
   "outputs": [
    {
     "name": "stderr",
     "output_type": "stream",
     "text": [
      "/tmp/ipykernel_4710/3747317201.py:3: UserWarning: Geometry is in a geographic CRS. Results from 'centroid' are likely incorrect. Use 'GeoSeries.to_crs()' to re-project geometries to a projected CRS before this operation.\n",
      "\n",
      "  x_map=tmp.centroid.x.mean()\n",
      "/tmp/ipykernel_4710/3747317201.py:4: UserWarning: Geometry is in a geographic CRS. Results from 'centroid' are likely incorrect. Use 'GeoSeries.to_crs()' to re-project geometries to a projected CRS before this operation.\n",
      "\n",
      "  y_map=tmp.centroid.y.mean()\n",
      "/home/maik/miniconda3/envs/cs2/lib/python3.9/site-packages/folium/folium.py:409: FutureWarning: The choropleth  method has been deprecated. Instead use the new Choropleth class, which has the same arguments. See the example notebook 'GeoJSON_and_choropleth' for how to do this.\n",
      "  warnings.warn(\n"
     ]
    }
   ],
   "source": [
    "tmp = clip[\"nrw\"]\n",
    "tmp[\"ix\"] = tmp.index\n",
    "x_map=tmp.centroid.x.mean()\n",
    "y_map=tmp.centroid.y.mean()\n",
    "\n",
    "mymap = folium.Map(location=[y_map, x_map], zoom_start=8,tiles=None)\n",
    "folium.TileLayer('CartoDB positron',name=\"Light Map\",control=False).add_to(mymap)\n",
    "\n",
    "myscale = (tmp['peak_area_ratio_highest'].quantile((0,0.1,0.75,0.9,0.98,1))).tolist()\n",
    "mymap.choropleth(\n",
    " geo_data=tmp,\n",
    " name='Choropleth',\n",
    " data=tmp,\n",
    " columns=['ix', 'peak_area_ratio_highest'],\n",
    " key_on=\"feature.properties.ix\",\n",
    " fill_color='YlGnBu',\n",
    " threshold_scale=myscale,\n",
    " fill_opacity=0.5,\n",
    " line_opacity=0.2,\n",
    ")\n",
    "#mymap"
   ]
  },
  {
   "cell_type": "code",
   "execution_count": null,
   "id": "5045625f",
   "metadata": {},
   "outputs": [],
   "source": [
    "#mymap.save(\"index.html\")"
   ]
  },
  {
   "cell_type": "code",
   "execution_count": null,
   "id": "693208e6",
   "metadata": {},
   "outputs": [],
   "source": []
  }
 ],
 "metadata": {
  "kernelspec": {
   "display_name": "Python 3 (ipykernel)",
   "language": "python",
   "name": "python3"
  },
  "language_info": {
   "codemirror_mode": {
    "name": "ipython",
    "version": 3
   },
   "file_extension": ".py",
   "mimetype": "text/x-python",
   "name": "python",
   "nbconvert_exporter": "python",
   "pygments_lexer": "ipython3",
   "version": "3.9.10"
  },
  "toc": {
   "base_numbering": 1,
   "nav_menu": {},
   "number_sections": false,
   "sideBar": true,
   "skip_h1_title": false,
   "title_cell": "Table of Contents",
   "title_sidebar": "Contents",
   "toc_cell": false,
   "toc_position": {
    "height": "calc(100% - 180px)",
    "left": "10px",
    "top": "150px",
    "width": "224.467px"
   },
   "toc_section_display": true,
   "toc_window_display": true
  }
 },
 "nbformat": 4,
 "nbformat_minor": 5
}
