{
 "cells": [
  {
   "cell_type": "code",
   "execution_count": 1,
   "id": "4e4d792f",
   "metadata": {},
   "outputs": [],
   "source": [
    "import pandas as pd\n",
    "import geopandas as gpd\n",
    "import folium\n",
    "import branca.colormap as cm"
   ]
  },
  {
   "cell_type": "code",
   "execution_count": 12,
   "id": "418a603e",
   "metadata": {},
   "outputs": [],
   "source": [
    "import json\n",
    "import numpy as np"
   ]
  },
  {
   "cell_type": "code",
   "execution_count": 3,
   "id": "7ed6628f",
   "metadata": {},
   "outputs": [],
   "source": [
    "#fpath = \"/media/x/data/shape_collection/bkg.bund/vg250_01-01.utm32s.shape.ebenen/vg250_ebenen_0101/VG250_GEM.shp\"\n",
    "#fpath = \"/media/x/data/kostra/GIS_KOSTRA-DWD-2010R_D0120/StatRR_KOSTRA-DWD-2010R_D0120.shp\"\n",
    "fpath = \"/media/x/data/paul/basins_all_info.gpkg\""
   ]
  },
  {
   "cell_type": "code",
   "execution_count": 4,
   "id": "308722c1",
   "metadata": {},
   "outputs": [],
   "source": [
    "data = gpd.read_file(fpath)\n",
    "data = data.to_crs(epsg=4326)"
   ]
  },
  {
   "cell_type": "code",
   "execution_count": 5,
   "id": "78973f83",
   "metadata": {},
   "outputs": [
    {
     "name": "stderr",
     "output_type": "stream",
     "text": [
      "/home/maik/miniconda3/envs/cs2/lib/python3.9/site-packages/geopandas/geodataframe.py:1351: SettingWithCopyWarning: \n",
      "A value is trying to be set on a copy of a slice from a DataFrame.\n",
      "Try using .loc[row_indexer,col_indexer] = value instead\n",
      "\n",
      "See the caveats in the documentation: https://pandas.pydata.org/pandas-docs/stable/user_guide/indexing.html#returning-a-view-versus-a-copy\n",
      "  super().__setitem__(key, value)\n"
     ]
    }
   ],
   "source": [
    "# reduce size\n",
    "data2 = data[[\"peak_area_ratio_original\", \"peak_area_ratio_highest\", \"highest_peak_event\", \"geometry\"]]\n",
    "data2[[\"peak_area_ratio_original\", \"peak_area_ratio_highest\"]] = data2[[\"peak_area_ratio_original\", \"peak_area_ratio_highest\"]].round(1)"
   ]
  },
  {
   "cell_type": "code",
   "execution_count": 7,
   "id": "254d69c8",
   "metadata": {},
   "outputs": [],
   "source": [
    "fpath = \"/media/x/data/shape_collection/bkg.bund/vg250_01-01.utm32s.shape.ebenen/vg250_ebenen_0101/VG250_LAN.shp\"\n",
    "states = gpd.read_file(fpath)\n",
    "states = states.to_crs(epsg=4326)"
   ]
  },
  {
   "cell_type": "code",
   "execution_count": 40,
   "id": "8d6610c2",
   "metadata": {},
   "outputs": [],
   "source": [
    "clipdefs = {\"nrw\": [\"Nordrhein-Westfalen\"],\n",
    "            \"shh\": [\"Schleswig-Holstein\",\"Hamburg\"],\n",
    "            \"nsb\": [\"Niedersachsen\", \"Bremen\"],\n",
    "            \"hes\": [\"Hessen\"],\n",
    "            \"rlp\": [\"Rheinland-Pfalz\"],\n",
    "            \"bwb\": [\"Baden-Württemberg\"],\n",
    "            \"bay\": [\"Bayern\"],\n",
    "            \"saa\": [\"Saarland\"],\n",
    "            \"bbr\": [\"Berlin\", \"Brandenburg\"],\n",
    "            \"mbv\": [\"Mecklenburg-Vorpommern\"],\n",
    "            \"sac\": [\"Sachsen\"],\n",
    "            \"san\": [\"Sachsen-Anhalt\"],\n",
    "            \"thu\": [\"Thüringen\"],\n",
    "           }"
   ]
  },
  {
   "cell_type": "code",
   "execution_count": 44,
   "id": "00973836",
   "metadata": {},
   "outputs": [
    {
     "name": "stdout",
     "output_type": "stream",
     "text": [
      "['Nordrhein-Westfalen']\n",
      "['Schleswig-Holstein', 'Hamburg']\n",
      "['Niedersachsen', 'Bremen']\n",
      "['Hessen']\n",
      "['Rheinland-Pfalz']\n",
      "['Baden-Württemberg']\n",
      "['Bayern']\n",
      "['Saarland']\n",
      "['Berlin', 'Brandenburg']\n",
      "['Mecklenburg-Vorpommern']\n",
      "['Sachsen']\n",
      "['Sachsen-Anhalt']\n",
      "['Thüringen']\n"
     ]
    }
   ],
   "source": [
    "clip = {}\n",
    "for key in clipdefs.keys():\n",
    "    print(clipdefs[key])\n",
    "    if len(clipdefs[key])==1:\n",
    "        clip[key] = data2.clip(states[states.GEN==clipdefs[key][0]])\n",
    "    else:\n",
    "        ix = np.repeat(False, len(states))\n",
    "        for j, item in enumerate(clipdefs[key]):\n",
    "            ix = ix | (states.GEN==clipdefs[key][j]).to_numpy()\n",
    "        clip[key] = data2.clip(states[ix])    "
   ]
  },
  {
   "cell_type": "code",
   "execution_count": 42,
   "id": "d4bbad67",
   "metadata": {},
   "outputs": [],
   "source": [
    "def _set_precision(coords, precision):\n",
    "    result = []\n",
    "    try:\n",
    "        return round(coords, int(precision))\n",
    "    except TypeError:\n",
    "        for coord in coords:\n",
    "            result.append(_set_precision(coord, precision))\n",
    "    return result"
   ]
  },
  {
   "cell_type": "code",
   "execution_count": 45,
   "id": "6949b113",
   "metadata": {},
   "outputs": [
    {
     "name": "stdout",
     "output_type": "stream",
     "text": [
      "nrw\n",
      "shh\n",
      "nsb\n",
      "hes\n",
      "rlp\n",
      "bwb\n",
      "bay\n",
      "saa\n",
      "bbr\n",
      "mbv\n",
      "sac\n",
      "san\n",
      "thu\n"
     ]
    }
   ],
   "source": [
    "precision = 5\n",
    "for key in clip.keys():\n",
    "    print(key)\n",
    "    tmp = clip[key].to_json()\n",
    "    with open(\"tmp\", \"w\") as f:\n",
    "        f.write(tmp)\n",
    "    with open(\"tmp\", \"r\") as f:\n",
    "        item = json.load(f)    \n",
    "    item2 = item.copy()\n",
    "    for i, feature in enumerate(item[\"features\"]):\n",
    "        coords = _set_precision(feature['geometry']['coordinates'], precision)\n",
    "        item2[\"features\"][i][\"geometry\"][\"coordinates\"] = coords \n",
    "    with open(\"docs/\"+key+\".js\", \"w\") as f:\n",
    "        f.write(\"%s = \" % key)\n",
    "        json.dump(item2, f)"
   ]
  },
  {
   "cell_type": "code",
   "execution_count": 17,
   "id": "0c4d731b",
   "metadata": {},
   "outputs": [],
   "source": [
    "test = np.array([81,23])\n",
    "test.to"
   ]
  },
  {
   "cell_type": "code",
   "execution_count": null,
   "id": "fc4f9039",
   "metadata": {},
   "outputs": [],
   "source": [
    "for key in clip.keys():\n",
    "    json = clip[key].to_json()\n",
    "    with open(\"doc/\"+key+\".js\", \"w\") as f:\n",
    "        f.write(\"cats = \")\n",
    "        f.write(json)\n",
    "        #clip[key].to_file(f, driver='GeoJSON', float_format=\"%.1f\")"
   ]
  },
  {
   "cell_type": "code",
   "execution_count": null,
   "id": "5ebbb0bb",
   "metadata": {},
   "outputs": [],
   "source": [
    "with open(\"doc/Saarland.js\", \"r\") as f:\n",
    "    tmp = json.load(f)\n",
    "for feature in tmp[\"features\"]:\n",
    "    coords = np.round(feature[\"geometry\"][\"coordinates\"])"
   ]
  },
  {
   "cell_type": "code",
   "execution_count": null,
   "id": "fa48998e",
   "metadata": {},
   "outputs": [],
   "source": [
    "tmp"
   ]
  },
  {
   "cell_type": "code",
   "execution_count": null,
   "id": "f5d3c4e1",
   "metadata": {},
   "outputs": [],
   "source": [
    "test=states.loc[states.index[0], \"geometry\"][\"coords\"]"
   ]
  },
  {
   "cell_type": "code",
   "execution_count": null,
   "id": "70213bb4",
   "metadata": {},
   "outputs": [],
   "source": [
    "test.geometry[\"coords\"]"
   ]
  },
  {
   "cell_type": "code",
   "execution_count": null,
   "id": "501c6cec",
   "metadata": {},
   "outputs": [],
   "source": [
    "precision = 5\n",
    "for ix in states.index:\n",
    "    coords = np.round(feature.at[ix, 'geometry']['coordinates'], precision)\n",
    "    states.loc[ix,\"geometry\"][\"coordinates\"] = coords\n",
    "#     if validate:\n",
    "#         geom = asShape(feature['geometry'])\n",
    "#         geom.is_valid\n",
    "#     yield feature"
   ]
  },
  {
   "cell_type": "code",
   "execution_count": null,
   "id": "5368ea66",
   "metadata": {},
   "outputs": [],
   "source": [
    "type(states[\"geometry\"][0])"
   ]
  },
  {
   "cell_type": "code",
   "execution_count": null,
   "id": "8f05d7f1",
   "metadata": {},
   "outputs": [],
   "source": [
    "x_map=dataclip.centroid.x.mean()\n",
    "y_map=dataclip.centroid.y.mean()\n",
    "print(x_map,y_map)"
   ]
  },
  {
   "cell_type": "code",
   "execution_count": null,
   "id": "51aa1ecd",
   "metadata": {},
   "outputs": [],
   "source": [
    "clip[\"Nordrhein-Westfalen\"][\"peak_area_ratio_highest\"].hist()"
   ]
  },
  {
   "cell_type": "code",
   "execution_count": null,
   "id": "47e93960",
   "metadata": {},
   "outputs": [],
   "source": [
    "x_map=tmp.centroid.x.mean()\n",
    "y_map=tmp.centroid.y.mean()\n",
    "print(y_map, x_map)"
   ]
  },
  {
   "cell_type": "code",
   "execution_count": null,
   "id": "6194f84b",
   "metadata": {},
   "outputs": [],
   "source": [
    "tmp = clip[\"Nordrhein-Westfalen\"]\n",
    "tmp[\"ix\"] = tmp.index\n",
    "x_map=tmp.centroid.x.mean()\n",
    "y_map=tmp.centroid.y.mean()\n",
    "\n",
    "mymap = folium.Map(location=[y_map, x_map], zoom_start=6,tiles=None)\n",
    "folium.TileLayer('CartoDB positron',name=\"Light Map\",control=False).add_to(mymap)\n",
    "\n",
    "myscale = (tmp['peak_area_ratio_highest'].quantile((0,0.1,0.75,0.9,0.98,1))).tolist()\n",
    "mymap.choropleth(\n",
    " geo_data=tmp,\n",
    " name='Choropleth',\n",
    " data=tmp,\n",
    " columns=['ix', 'peak_area_ratio_highest'],\n",
    " key_on=\"feature.properties.ix\",\n",
    " fill_color='YlGnBu',\n",
    " threshold_scale=myscale,\n",
    " fill_opacity=0.8,\n",
    " line_opacity=0.2,\n",
    ")\n",
    "mymap"
   ]
  },
  {
   "cell_type": "code",
   "execution_count": null,
   "id": "5045625f",
   "metadata": {},
   "outputs": [],
   "source": [
    "#mymap.save(\"index.html\")"
   ]
  },
  {
   "cell_type": "code",
   "execution_count": null,
   "id": "a5c7ae01",
   "metadata": {},
   "outputs": [],
   "source": [
    "data[[\"highest_peak\",\"geometry\"]].to_file('data.geojson', driver='GeoJSON', float_format=\"%.1f\")"
   ]
  },
  {
   "cell_type": "code",
   "execution_count": null,
   "id": "693208e6",
   "metadata": {},
   "outputs": [],
   "source": []
  }
 ],
 "metadata": {
  "kernelspec": {
   "display_name": "Python 3 (ipykernel)",
   "language": "python",
   "name": "python3"
  },
  "language_info": {
   "codemirror_mode": {
    "name": "ipython",
    "version": 3
   },
   "file_extension": ".py",
   "mimetype": "text/x-python",
   "name": "python",
   "nbconvert_exporter": "python",
   "pygments_lexer": "ipython3",
   "version": "3.9.10"
  },
  "toc": {
   "base_numbering": 1,
   "nav_menu": {},
   "number_sections": true,
   "sideBar": true,
   "skip_h1_title": false,
   "title_cell": "Table of Contents",
   "title_sidebar": "Contents",
   "toc_cell": false,
   "toc_position": {},
   "toc_section_display": true,
   "toc_window_display": false
  }
 },
 "nbformat": 4,
 "nbformat_minor": 5
}
